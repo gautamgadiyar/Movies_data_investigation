{
 "cells": [
  {
   "cell_type": "markdown",
   "metadata": {},
   "source": [
    "\n",
    "# Project: Investigation of the TMDb Movie dataset - Data Analysis\n",
    "\n",
    "## Table of Contents\n",
    "<ul>\n",
    "<li><a href=\"#intro\">Introduction</a></li>\n",
    "<li><a href=\"#wrangling\">Data Wrangling</a></li>\n",
    "<li><a href=\"#eda\">Exploratory Data Analysis</a></li>\n",
    "<li><a href=\"#conclusions\">Conclusions</a></li>\n",
    "</ul>"
   ]
  },
  {
   "cell_type": "markdown",
   "metadata": {},
   "source": [
    "<a id='intro'></a>\n",
    "## Introduction\n",
    "\n",
    "The report includes my analysis on the TMDb Movie dataset. The dataset contains about 10,000 movies' data that were released between 1960 and 2015. The datset contains records like popularity, genre, year of release, budget, revenue, rating and so on. This dataset gives us a good insight into the various trends of people's liking, the various genres that were created and liked. Since the dataset has data between a long period of time, it gives us a good comparison of changing trends.\n",
    "\n",
    "### Questions that were tried to address:\n",
    "\n",
    "1. Trends in popularity: <br>\n",
    "    a. Are movies more popular today or in the yesteryears?<br>\n",
    "    b. How are revenues impacted with popularity?<br>\n",
    "<br>\n",
    "2. Trends in Genres:<br>\n",
    "    a. Which Genre movies were most made?<br>\n",
    "    b. What genres are more popular?<br>\n",
    "    c. Which genres have good budget to revenue conversion?<br>\n",
    "\n"
   ]
  },
  {
   "cell_type": "code",
   "execution_count": 83,
   "metadata": {},
   "outputs": [],
   "source": [
    "import pandas as pd\n",
    "import numpy as np\n",
    "import matplotlib.pyplot as plt\n",
    "import seaborn as sns\n",
    "%matplotlib inline\n"
   ]
  },
  {
   "cell_type": "markdown",
   "metadata": {},
   "source": [
    "<a id='wrangling'></a>\n",
    "## Data Wrangling\n",
    "\n",
    "During Data wrangling, the data is first loaded and checked for cleanliness. The main task would be to look for Null values, erroneous data, duplicates and unnecessasary data for the research. All the data in the dataset may have some use of its own, but not necessary for my research.\n",
    "\n",
    "### General Properties\n",
    "1. Look for Null <br>\n",
    "2. Erroneous data <br>\n",
    "3. Duplicates<br>\n",
    "4. Data that is not necessary for research<br><br>\n",
    "\n",
    "Firstly, I'll be loading the data and checking the dataset."
   ]
  },
  {
   "cell_type": "code",
   "execution_count": 84,
   "metadata": {
    "scrolled": true
   },
   "outputs": [
    {
     "data": {
      "text/html": [
       "<div>\n",
       "<style scoped>\n",
       "    .dataframe tbody tr th:only-of-type {\n",
       "        vertical-align: middle;\n",
       "    }\n",
       "\n",
       "    .dataframe tbody tr th {\n",
       "        vertical-align: top;\n",
       "    }\n",
       "\n",
       "    .dataframe thead th {\n",
       "        text-align: right;\n",
       "    }\n",
       "</style>\n",
       "<table border=\"1\" class=\"dataframe\">\n",
       "  <thead>\n",
       "    <tr style=\"text-align: right;\">\n",
       "      <th></th>\n",
       "      <th>id</th>\n",
       "      <th>imdb_id</th>\n",
       "      <th>popularity</th>\n",
       "      <th>budget</th>\n",
       "      <th>revenue</th>\n",
       "      <th>original_title</th>\n",
       "      <th>cast</th>\n",
       "      <th>homepage</th>\n",
       "      <th>director</th>\n",
       "      <th>tagline</th>\n",
       "      <th>...</th>\n",
       "      <th>overview</th>\n",
       "      <th>runtime</th>\n",
       "      <th>genres</th>\n",
       "      <th>production_companies</th>\n",
       "      <th>release_date</th>\n",
       "      <th>vote_count</th>\n",
       "      <th>vote_average</th>\n",
       "      <th>release_year</th>\n",
       "      <th>budget_adj</th>\n",
       "      <th>revenue_adj</th>\n",
       "    </tr>\n",
       "  </thead>\n",
       "  <tbody>\n",
       "    <tr>\n",
       "      <th>0</th>\n",
       "      <td>135397</td>\n",
       "      <td>tt0369610</td>\n",
       "      <td>32.985763</td>\n",
       "      <td>150000000</td>\n",
       "      <td>1513528810</td>\n",
       "      <td>Jurassic World</td>\n",
       "      <td>Chris Pratt|Bryce Dallas Howard|Irrfan Khan|Vi...</td>\n",
       "      <td>http://www.jurassicworld.com/</td>\n",
       "      <td>Colin Trevorrow</td>\n",
       "      <td>The park is open.</td>\n",
       "      <td>...</td>\n",
       "      <td>Twenty-two years after the events of Jurassic ...</td>\n",
       "      <td>124</td>\n",
       "      <td>Action|Adventure|Science Fiction|Thriller</td>\n",
       "      <td>Universal Studios|Amblin Entertainment|Legenda...</td>\n",
       "      <td>6/9/15</td>\n",
       "      <td>5562</td>\n",
       "      <td>6.5</td>\n",
       "      <td>2015</td>\n",
       "      <td>1.379999e+08</td>\n",
       "      <td>1.392446e+09</td>\n",
       "    </tr>\n",
       "    <tr>\n",
       "      <th>1</th>\n",
       "      <td>76341</td>\n",
       "      <td>tt1392190</td>\n",
       "      <td>28.419936</td>\n",
       "      <td>150000000</td>\n",
       "      <td>378436354</td>\n",
       "      <td>Mad Max: Fury Road</td>\n",
       "      <td>Tom Hardy|Charlize Theron|Hugh Keays-Byrne|Nic...</td>\n",
       "      <td>http://www.madmaxmovie.com/</td>\n",
       "      <td>George Miller</td>\n",
       "      <td>What a Lovely Day.</td>\n",
       "      <td>...</td>\n",
       "      <td>An apocalyptic story set in the furthest reach...</td>\n",
       "      <td>120</td>\n",
       "      <td>Action|Adventure|Science Fiction|Thriller</td>\n",
       "      <td>Village Roadshow Pictures|Kennedy Miller Produ...</td>\n",
       "      <td>5/13/15</td>\n",
       "      <td>6185</td>\n",
       "      <td>7.1</td>\n",
       "      <td>2015</td>\n",
       "      <td>1.379999e+08</td>\n",
       "      <td>3.481613e+08</td>\n",
       "    </tr>\n",
       "    <tr>\n",
       "      <th>2</th>\n",
       "      <td>262500</td>\n",
       "      <td>tt2908446</td>\n",
       "      <td>13.112507</td>\n",
       "      <td>110000000</td>\n",
       "      <td>295238201</td>\n",
       "      <td>Insurgent</td>\n",
       "      <td>Shailene Woodley|Theo James|Kate Winslet|Ansel...</td>\n",
       "      <td>http://www.thedivergentseries.movie/#insurgent</td>\n",
       "      <td>Robert Schwentke</td>\n",
       "      <td>One Choice Can Destroy You</td>\n",
       "      <td>...</td>\n",
       "      <td>Beatrice Prior must confront her inner demons ...</td>\n",
       "      <td>119</td>\n",
       "      <td>Adventure|Science Fiction|Thriller</td>\n",
       "      <td>Summit Entertainment|Mandeville Films|Red Wago...</td>\n",
       "      <td>3/18/15</td>\n",
       "      <td>2480</td>\n",
       "      <td>6.3</td>\n",
       "      <td>2015</td>\n",
       "      <td>1.012000e+08</td>\n",
       "      <td>2.716190e+08</td>\n",
       "    </tr>\n",
       "    <tr>\n",
       "      <th>3</th>\n",
       "      <td>140607</td>\n",
       "      <td>tt2488496</td>\n",
       "      <td>11.173104</td>\n",
       "      <td>200000000</td>\n",
       "      <td>2068178225</td>\n",
       "      <td>Star Wars: The Force Awakens</td>\n",
       "      <td>Harrison Ford|Mark Hamill|Carrie Fisher|Adam D...</td>\n",
       "      <td>http://www.starwars.com/films/star-wars-episod...</td>\n",
       "      <td>J.J. Abrams</td>\n",
       "      <td>Every generation has a story.</td>\n",
       "      <td>...</td>\n",
       "      <td>Thirty years after defeating the Galactic Empi...</td>\n",
       "      <td>136</td>\n",
       "      <td>Action|Adventure|Science Fiction|Fantasy</td>\n",
       "      <td>Lucasfilm|Truenorth Productions|Bad Robot</td>\n",
       "      <td>12/15/15</td>\n",
       "      <td>5292</td>\n",
       "      <td>7.5</td>\n",
       "      <td>2015</td>\n",
       "      <td>1.839999e+08</td>\n",
       "      <td>1.902723e+09</td>\n",
       "    </tr>\n",
       "    <tr>\n",
       "      <th>4</th>\n",
       "      <td>168259</td>\n",
       "      <td>tt2820852</td>\n",
       "      <td>9.335014</td>\n",
       "      <td>190000000</td>\n",
       "      <td>1506249360</td>\n",
       "      <td>Furious 7</td>\n",
       "      <td>Vin Diesel|Paul Walker|Jason Statham|Michelle ...</td>\n",
       "      <td>http://www.furious7.com/</td>\n",
       "      <td>James Wan</td>\n",
       "      <td>Vengeance Hits Home</td>\n",
       "      <td>...</td>\n",
       "      <td>Deckard Shaw seeks revenge against Dominic Tor...</td>\n",
       "      <td>137</td>\n",
       "      <td>Action|Crime|Thriller</td>\n",
       "      <td>Universal Pictures|Original Film|Media Rights ...</td>\n",
       "      <td>4/1/15</td>\n",
       "      <td>2947</td>\n",
       "      <td>7.3</td>\n",
       "      <td>2015</td>\n",
       "      <td>1.747999e+08</td>\n",
       "      <td>1.385749e+09</td>\n",
       "    </tr>\n",
       "  </tbody>\n",
       "</table>\n",
       "<p>5 rows × 21 columns</p>\n",
       "</div>"
      ],
      "text/plain": [
       "       id    imdb_id  popularity     budget     revenue  \\\n",
       "0  135397  tt0369610   32.985763  150000000  1513528810   \n",
       "1   76341  tt1392190   28.419936  150000000   378436354   \n",
       "2  262500  tt2908446   13.112507  110000000   295238201   \n",
       "3  140607  tt2488496   11.173104  200000000  2068178225   \n",
       "4  168259  tt2820852    9.335014  190000000  1506249360   \n",
       "\n",
       "                 original_title  \\\n",
       "0                Jurassic World   \n",
       "1            Mad Max: Fury Road   \n",
       "2                     Insurgent   \n",
       "3  Star Wars: The Force Awakens   \n",
       "4                     Furious 7   \n",
       "\n",
       "                                                cast  \\\n",
       "0  Chris Pratt|Bryce Dallas Howard|Irrfan Khan|Vi...   \n",
       "1  Tom Hardy|Charlize Theron|Hugh Keays-Byrne|Nic...   \n",
       "2  Shailene Woodley|Theo James|Kate Winslet|Ansel...   \n",
       "3  Harrison Ford|Mark Hamill|Carrie Fisher|Adam D...   \n",
       "4  Vin Diesel|Paul Walker|Jason Statham|Michelle ...   \n",
       "\n",
       "                                            homepage          director  \\\n",
       "0                      http://www.jurassicworld.com/   Colin Trevorrow   \n",
       "1                        http://www.madmaxmovie.com/     George Miller   \n",
       "2     http://www.thedivergentseries.movie/#insurgent  Robert Schwentke   \n",
       "3  http://www.starwars.com/films/star-wars-episod...       J.J. Abrams   \n",
       "4                           http://www.furious7.com/         James Wan   \n",
       "\n",
       "                         tagline      ...       \\\n",
       "0              The park is open.      ...        \n",
       "1             What a Lovely Day.      ...        \n",
       "2     One Choice Can Destroy You      ...        \n",
       "3  Every generation has a story.      ...        \n",
       "4            Vengeance Hits Home      ...        \n",
       "\n",
       "                                            overview runtime  \\\n",
       "0  Twenty-two years after the events of Jurassic ...     124   \n",
       "1  An apocalyptic story set in the furthest reach...     120   \n",
       "2  Beatrice Prior must confront her inner demons ...     119   \n",
       "3  Thirty years after defeating the Galactic Empi...     136   \n",
       "4  Deckard Shaw seeks revenge against Dominic Tor...     137   \n",
       "\n",
       "                                      genres  \\\n",
       "0  Action|Adventure|Science Fiction|Thriller   \n",
       "1  Action|Adventure|Science Fiction|Thriller   \n",
       "2         Adventure|Science Fiction|Thriller   \n",
       "3   Action|Adventure|Science Fiction|Fantasy   \n",
       "4                      Action|Crime|Thriller   \n",
       "\n",
       "                                production_companies release_date vote_count  \\\n",
       "0  Universal Studios|Amblin Entertainment|Legenda...       6/9/15       5562   \n",
       "1  Village Roadshow Pictures|Kennedy Miller Produ...      5/13/15       6185   \n",
       "2  Summit Entertainment|Mandeville Films|Red Wago...      3/18/15       2480   \n",
       "3          Lucasfilm|Truenorth Productions|Bad Robot     12/15/15       5292   \n",
       "4  Universal Pictures|Original Film|Media Rights ...       4/1/15       2947   \n",
       "\n",
       "   vote_average  release_year    budget_adj   revenue_adj  \n",
       "0           6.5          2015  1.379999e+08  1.392446e+09  \n",
       "1           7.1          2015  1.379999e+08  3.481613e+08  \n",
       "2           6.3          2015  1.012000e+08  2.716190e+08  \n",
       "3           7.5          2015  1.839999e+08  1.902723e+09  \n",
       "4           7.3          2015  1.747999e+08  1.385749e+09  \n",
       "\n",
       "[5 rows x 21 columns]"
      ]
     },
     "execution_count": 84,
     "metadata": {},
     "output_type": "execute_result"
    }
   ],
   "source": [
    "# load 'tmdb-movies' dataset from csv\n",
    "movies_df = pd.read_csv('tmdb-movies.csv')\n",
    "#check the first 5 records\n",
    "movies_df.head()"
   ]
  },
  {
   "cell_type": "markdown",
   "metadata": {},
   "source": [
    "Now, we check the size of the dataset, the basic statistical data and information on datatypes and Null values using shape, describe() and info() respectively.\n",
    "\n",
    "We notice that there are pipe separated data also in fields like Genre, cast and production."
   ]
  },
  {
   "cell_type": "code",
   "execution_count": 85,
   "metadata": {},
   "outputs": [
    {
     "data": {
      "text/plain": [
       "(10866, 21)"
      ]
     },
     "execution_count": 85,
     "metadata": {},
     "output_type": "execute_result"
    }
   ],
   "source": [
    "#checking the number of records and columns\n",
    "movies_df.shape"
   ]
  },
  {
   "cell_type": "code",
   "execution_count": 87,
   "metadata": {},
   "outputs": [
    {
     "data": {
      "text/html": [
       "<div>\n",
       "<style scoped>\n",
       "    .dataframe tbody tr th:only-of-type {\n",
       "        vertical-align: middle;\n",
       "    }\n",
       "\n",
       "    .dataframe tbody tr th {\n",
       "        vertical-align: top;\n",
       "    }\n",
       "\n",
       "    .dataframe thead th {\n",
       "        text-align: right;\n",
       "    }\n",
       "</style>\n",
       "<table border=\"1\" class=\"dataframe\">\n",
       "  <thead>\n",
       "    <tr style=\"text-align: right;\">\n",
       "      <th></th>\n",
       "      <th>id</th>\n",
       "      <th>popularity</th>\n",
       "      <th>budget</th>\n",
       "      <th>revenue</th>\n",
       "      <th>runtime</th>\n",
       "      <th>vote_count</th>\n",
       "      <th>vote_average</th>\n",
       "      <th>release_year</th>\n",
       "      <th>budget_adj</th>\n",
       "      <th>revenue_adj</th>\n",
       "    </tr>\n",
       "  </thead>\n",
       "  <tbody>\n",
       "    <tr>\n",
       "      <th>count</th>\n",
       "      <td>10866.000000</td>\n",
       "      <td>10866.000000</td>\n",
       "      <td>1.086600e+04</td>\n",
       "      <td>1.086600e+04</td>\n",
       "      <td>10866.000000</td>\n",
       "      <td>10866.000000</td>\n",
       "      <td>10866.000000</td>\n",
       "      <td>10866.000000</td>\n",
       "      <td>1.086600e+04</td>\n",
       "      <td>1.086600e+04</td>\n",
       "    </tr>\n",
       "    <tr>\n",
       "      <th>mean</th>\n",
       "      <td>66064.177434</td>\n",
       "      <td>0.646441</td>\n",
       "      <td>1.462570e+07</td>\n",
       "      <td>3.982332e+07</td>\n",
       "      <td>102.070863</td>\n",
       "      <td>217.389748</td>\n",
       "      <td>5.974922</td>\n",
       "      <td>2001.322658</td>\n",
       "      <td>1.755104e+07</td>\n",
       "      <td>5.136436e+07</td>\n",
       "    </tr>\n",
       "    <tr>\n",
       "      <th>std</th>\n",
       "      <td>92130.136561</td>\n",
       "      <td>1.000185</td>\n",
       "      <td>3.091321e+07</td>\n",
       "      <td>1.170035e+08</td>\n",
       "      <td>31.381405</td>\n",
       "      <td>575.619058</td>\n",
       "      <td>0.935142</td>\n",
       "      <td>12.812941</td>\n",
       "      <td>3.430616e+07</td>\n",
       "      <td>1.446325e+08</td>\n",
       "    </tr>\n",
       "    <tr>\n",
       "      <th>min</th>\n",
       "      <td>5.000000</td>\n",
       "      <td>0.000065</td>\n",
       "      <td>0.000000e+00</td>\n",
       "      <td>0.000000e+00</td>\n",
       "      <td>0.000000</td>\n",
       "      <td>10.000000</td>\n",
       "      <td>1.500000</td>\n",
       "      <td>1960.000000</td>\n",
       "      <td>0.000000e+00</td>\n",
       "      <td>0.000000e+00</td>\n",
       "    </tr>\n",
       "    <tr>\n",
       "      <th>25%</th>\n",
       "      <td>10596.250000</td>\n",
       "      <td>0.207583</td>\n",
       "      <td>0.000000e+00</td>\n",
       "      <td>0.000000e+00</td>\n",
       "      <td>90.000000</td>\n",
       "      <td>17.000000</td>\n",
       "      <td>5.400000</td>\n",
       "      <td>1995.000000</td>\n",
       "      <td>0.000000e+00</td>\n",
       "      <td>0.000000e+00</td>\n",
       "    </tr>\n",
       "    <tr>\n",
       "      <th>50%</th>\n",
       "      <td>20669.000000</td>\n",
       "      <td>0.383856</td>\n",
       "      <td>0.000000e+00</td>\n",
       "      <td>0.000000e+00</td>\n",
       "      <td>99.000000</td>\n",
       "      <td>38.000000</td>\n",
       "      <td>6.000000</td>\n",
       "      <td>2006.000000</td>\n",
       "      <td>0.000000e+00</td>\n",
       "      <td>0.000000e+00</td>\n",
       "    </tr>\n",
       "    <tr>\n",
       "      <th>75%</th>\n",
       "      <td>75610.000000</td>\n",
       "      <td>0.713817</td>\n",
       "      <td>1.500000e+07</td>\n",
       "      <td>2.400000e+07</td>\n",
       "      <td>111.000000</td>\n",
       "      <td>145.750000</td>\n",
       "      <td>6.600000</td>\n",
       "      <td>2011.000000</td>\n",
       "      <td>2.085325e+07</td>\n",
       "      <td>3.369710e+07</td>\n",
       "    </tr>\n",
       "    <tr>\n",
       "      <th>max</th>\n",
       "      <td>417859.000000</td>\n",
       "      <td>32.985763</td>\n",
       "      <td>4.250000e+08</td>\n",
       "      <td>2.781506e+09</td>\n",
       "      <td>900.000000</td>\n",
       "      <td>9767.000000</td>\n",
       "      <td>9.200000</td>\n",
       "      <td>2015.000000</td>\n",
       "      <td>4.250000e+08</td>\n",
       "      <td>2.827124e+09</td>\n",
       "    </tr>\n",
       "  </tbody>\n",
       "</table>\n",
       "</div>"
      ],
      "text/plain": [
       "                  id    popularity        budget       revenue       runtime  \\\n",
       "count   10866.000000  10866.000000  1.086600e+04  1.086600e+04  10866.000000   \n",
       "mean    66064.177434      0.646441  1.462570e+07  3.982332e+07    102.070863   \n",
       "std     92130.136561      1.000185  3.091321e+07  1.170035e+08     31.381405   \n",
       "min         5.000000      0.000065  0.000000e+00  0.000000e+00      0.000000   \n",
       "25%     10596.250000      0.207583  0.000000e+00  0.000000e+00     90.000000   \n",
       "50%     20669.000000      0.383856  0.000000e+00  0.000000e+00     99.000000   \n",
       "75%     75610.000000      0.713817  1.500000e+07  2.400000e+07    111.000000   \n",
       "max    417859.000000     32.985763  4.250000e+08  2.781506e+09    900.000000   \n",
       "\n",
       "         vote_count  vote_average  release_year    budget_adj   revenue_adj  \n",
       "count  10866.000000  10866.000000  10866.000000  1.086600e+04  1.086600e+04  \n",
       "mean     217.389748      5.974922   2001.322658  1.755104e+07  5.136436e+07  \n",
       "std      575.619058      0.935142     12.812941  3.430616e+07  1.446325e+08  \n",
       "min       10.000000      1.500000   1960.000000  0.000000e+00  0.000000e+00  \n",
       "25%       17.000000      5.400000   1995.000000  0.000000e+00  0.000000e+00  \n",
       "50%       38.000000      6.000000   2006.000000  0.000000e+00  0.000000e+00  \n",
       "75%      145.750000      6.600000   2011.000000  2.085325e+07  3.369710e+07  \n",
       "max     9767.000000      9.200000   2015.000000  4.250000e+08  2.827124e+09  "
      ]
     },
     "execution_count": 87,
     "metadata": {},
     "output_type": "execute_result"
    }
   ],
   "source": [
    "#understading the basic statistics of the dataset\n",
    "movies_df.describe()"
   ]
  },
  {
   "cell_type": "code",
   "execution_count": 88,
   "metadata": {},
   "outputs": [
    {
     "name": "stdout",
     "output_type": "stream",
     "text": [
      "<class 'pandas.core.frame.DataFrame'>\n",
      "RangeIndex: 10866 entries, 0 to 10865\n",
      "Data columns (total 21 columns):\n",
      "id                      10866 non-null int64\n",
      "imdb_id                 10856 non-null object\n",
      "popularity              10866 non-null float64\n",
      "budget                  10866 non-null int64\n",
      "revenue                 10866 non-null int64\n",
      "original_title          10866 non-null object\n",
      "cast                    10790 non-null object\n",
      "homepage                2936 non-null object\n",
      "director                10822 non-null object\n",
      "tagline                 8042 non-null object\n",
      "keywords                9373 non-null object\n",
      "overview                10862 non-null object\n",
      "runtime                 10866 non-null int64\n",
      "genres                  10843 non-null object\n",
      "production_companies    9836 non-null object\n",
      "release_date            10866 non-null object\n",
      "vote_count              10866 non-null int64\n",
      "vote_average            10866 non-null float64\n",
      "release_year            10866 non-null int64\n",
      "budget_adj              10866 non-null float64\n",
      "revenue_adj             10866 non-null float64\n",
      "dtypes: float64(4), int64(6), object(11)\n",
      "memory usage: 1.7+ MB\n"
     ]
    }
   ],
   "source": [
    "movies_df.info()"
   ]
  },
  {
   "cell_type": "markdown",
   "metadata": {},
   "source": [
    "We can notice there are *10,866* records in the dataset. This could include duplicates and rows with erroneous data also. There are *21* columns and all may not be useful for us. <br>\n",
    "We can notice that there are values missing in imdb_id, homepage, cast, tagline etc. We can either remove those missing rows if their count is less or we can replace null values by mean or median.\n",
    "\n",
    "From the describe(), we can note that there are nearly 50% data with budget and revenue as 0. we will have to correct this data to make appropriate findings.\n"
   ]
  },
  {
   "cell_type": "code",
   "execution_count": 89,
   "metadata": {
    "scrolled": false
   },
   "outputs": [
    {
     "data": {
      "image/png": "[encoded data removed]",
      "text/plain": [
       "<Figure size 864x720 with 12 Axes>"
      ]
     },
     "metadata": {
      "needs_background": "light"
     },
     "output_type": "display_data"
    }
   ],
   "source": [
    "movies_df.hist(figsize=(12,10));"
   ]
  },
  {
   "cell_type": "markdown",
   "metadata": {},
   "source": [
    "The following observation can be made from the histograms:\n",
    "\n",
    "1. The number of movies release has increased over the years gradually. <br>\n",
    "2. The voting average trends show that most votes have given average rating.<br>\n",
    "3. The runtimes have rarely crossed 200 minutes.<br>"
   ]
  },
  {
   "cell_type": "markdown",
   "metadata": {},
   "source": [
    "We now check the number of duplicate row."
   ]
  },
  {
   "cell_type": "code",
   "execution_count": 90,
   "metadata": {},
   "outputs": [
    {
     "data": {
      "text/plain": [
       "1"
      ]
     },
     "execution_count": 90,
     "metadata": {},
     "output_type": "execute_result"
    }
   ],
   "source": [
    "movies_df[movies_df.duplicated()].count()['id']"
   ]
  },
  {
   "cell_type": "code",
   "execution_count": 91,
   "metadata": {},
   "outputs": [
    {
     "data": {
      "text/plain": [
       "id                         0\n",
       "imdb_id                   10\n",
       "popularity                 0\n",
       "budget                     0\n",
       "revenue                    0\n",
       "original_title             0\n",
       "cast                      76\n",
       "homepage                7930\n",
       "director                  44\n",
       "tagline                 2824\n",
       "keywords                1493\n",
       "overview                   4\n",
       "runtime                    0\n",
       "genres                    23\n",
       "production_companies    1030\n",
       "release_date               0\n",
       "vote_count                 0\n",
       "vote_average               0\n",
       "release_year               0\n",
       "budget_adj                 0\n",
       "revenue_adj                0\n",
       "dtype: int64"
      ]
     },
     "execution_count": 91,
     "metadata": {},
     "output_type": "execute_result"
    }
   ],
   "source": [
    "# check the number of null values in each column\n",
    "movies_df.isnull().sum()"
   ]
  },
  {
   "cell_type": "markdown",
   "metadata": {},
   "source": [
    "We notice there are a lot of **Null** values in the *homepage, tagline, keywords and production companies.*.\n",
    "\n",
    "Since there are not not required for our analysis, we couls straight away *drop* them."
   ]
  },
  {
   "cell_type": "markdown",
   "metadata": {},
   "source": [
    "Now we check if there are errorneous data."
   ]
  },
  {
   "cell_type": "code",
   "execution_count": 92,
   "metadata": {},
   "outputs": [
    {
     "data": {
      "text/plain": [
       "5696"
      ]
     },
     "execution_count": 92,
     "metadata": {},
     "output_type": "execute_result"
    }
   ],
   "source": [
    "#check movies with '0' budget.\n",
    "movies_df.query(\"budget == 0\").count()['id']"
   ]
  },
  {
   "cell_type": "code",
   "execution_count": 93,
   "metadata": {
    "scrolled": true
   },
   "outputs": [
    {
     "data": {
      "text/plain": [
       "6016"
      ]
     },
     "execution_count": 93,
     "metadata": {},
     "output_type": "execute_result"
    }
   ],
   "source": [
    "##check movies with '0' revenue.\n",
    "movies_df.query(\"revenue == 0\").count()['id']"
   ]
  },
  {
   "cell_type": "code",
   "execution_count": 94,
   "metadata": {},
   "outputs": [
    {
     "data": {
      "text/plain": [
       "31"
      ]
     },
     "execution_count": 94,
     "metadata": {},
     "output_type": "execute_result"
    }
   ],
   "source": [
    "# #check movies with '0' runtime.\n",
    "movies_df.query(\"runtime == 0\").count()['id']"
   ]
  },
  {
   "cell_type": "markdown",
   "metadata": {},
   "source": [
    "We notice there are **5696** erroneous budget and **6016** revenue details with 0 dollars. This cannot be true since no movie can be made free of cost. This data will have to be replaced with Null values so that it does not affect our analysis.\n",
    "\n",
    "We cannot delete these rows since the number if large and we will lose a lot of important data in the process."
   ]
  },
  {
   "cell_type": "markdown",
   "metadata": {},
   "source": [
    "Similarly for runtime, we have found 31 records with 0 values. The runtime cannot be 0 for any film, so we can replace them by Null."
   ]
  },
  {
   "cell_type": "markdown",
   "metadata": {},
   "source": [
    "### Data Cleaning - Cleaning Movies data for accurate analysis. "
   ]
  },
  {
   "cell_type": "markdown",
   "metadata": {},
   "source": [
    "Firstly, let us remove the columns that we do not need for our analysis.\n",
    "Those are **'imdb_id', 'homepage', 'tagline', 'overview', 'cast', 'director', 'production_companies'**."
   ]
  },
  {
   "cell_type": "code",
   "execution_count": 95,
   "metadata": {},
   "outputs": [
    {
     "data": {
      "text/html": [
       "<div>\n",
       "<style scoped>\n",
       "    .dataframe tbody tr th:only-of-type {\n",
       "        vertical-align: middle;\n",
       "    }\n",
       "\n",
       "    .dataframe tbody tr th {\n",
       "        vertical-align: top;\n",
       "    }\n",
       "\n",
       "    .dataframe thead th {\n",
       "        text-align: right;\n",
       "    }\n",
       "</style>\n",
       "<table border=\"1\" class=\"dataframe\">\n",
       "  <thead>\n",
       "    <tr style=\"text-align: right;\">\n",
       "      <th></th>\n",
       "      <th>id</th>\n",
       "      <th>popularity</th>\n",
       "      <th>budget</th>\n",
       "      <th>revenue</th>\n",
       "      <th>original_title</th>\n",
       "      <th>keywords</th>\n",
       "      <th>runtime</th>\n",
       "      <th>genres</th>\n",
       "      <th>release_date</th>\n",
       "      <th>vote_count</th>\n",
       "      <th>vote_average</th>\n",
       "      <th>release_year</th>\n",
       "      <th>budget_adj</th>\n",
       "      <th>revenue_adj</th>\n",
       "    </tr>\n",
       "  </thead>\n",
       "  <tbody>\n",
       "    <tr>\n",
       "      <th>0</th>\n",
       "      <td>135397</td>\n",
       "      <td>32.985763</td>\n",
       "      <td>150000000</td>\n",
       "      <td>1513528810</td>\n",
       "      <td>Jurassic World</td>\n",
       "      <td>monster|dna|tyrannosaurus rex|velociraptor|island</td>\n",
       "      <td>124</td>\n",
       "      <td>Action|Adventure|Science Fiction|Thriller</td>\n",
       "      <td>6/9/15</td>\n",
       "      <td>5562</td>\n",
       "      <td>6.5</td>\n",
       "      <td>2015</td>\n",
       "      <td>1.379999e+08</td>\n",
       "      <td>1.392446e+09</td>\n",
       "    </tr>\n",
       "    <tr>\n",
       "      <th>1</th>\n",
       "      <td>76341</td>\n",
       "      <td>28.419936</td>\n",
       "      <td>150000000</td>\n",
       "      <td>378436354</td>\n",
       "      <td>Mad Max: Fury Road</td>\n",
       "      <td>future|chase|post-apocalyptic|dystopia|australia</td>\n",
       "      <td>120</td>\n",
       "      <td>Action|Adventure|Science Fiction|Thriller</td>\n",
       "      <td>5/13/15</td>\n",
       "      <td>6185</td>\n",
       "      <td>7.1</td>\n",
       "      <td>2015</td>\n",
       "      <td>1.379999e+08</td>\n",
       "      <td>3.481613e+08</td>\n",
       "    </tr>\n",
       "    <tr>\n",
       "      <th>2</th>\n",
       "      <td>262500</td>\n",
       "      <td>13.112507</td>\n",
       "      <td>110000000</td>\n",
       "      <td>295238201</td>\n",
       "      <td>Insurgent</td>\n",
       "      <td>based on novel|revolution|dystopia|sequel|dyst...</td>\n",
       "      <td>119</td>\n",
       "      <td>Adventure|Science Fiction|Thriller</td>\n",
       "      <td>3/18/15</td>\n",
       "      <td>2480</td>\n",
       "      <td>6.3</td>\n",
       "      <td>2015</td>\n",
       "      <td>1.012000e+08</td>\n",
       "      <td>2.716190e+08</td>\n",
       "    </tr>\n",
       "    <tr>\n",
       "      <th>3</th>\n",
       "      <td>140607</td>\n",
       "      <td>11.173104</td>\n",
       "      <td>200000000</td>\n",
       "      <td>2068178225</td>\n",
       "      <td>Star Wars: The Force Awakens</td>\n",
       "      <td>android|spaceship|jedi|space opera|3d</td>\n",
       "      <td>136</td>\n",
       "      <td>Action|Adventure|Science Fiction|Fantasy</td>\n",
       "      <td>12/15/15</td>\n",
       "      <td>5292</td>\n",
       "      <td>7.5</td>\n",
       "      <td>2015</td>\n",
       "      <td>1.839999e+08</td>\n",
       "      <td>1.902723e+09</td>\n",
       "    </tr>\n",
       "    <tr>\n",
       "      <th>4</th>\n",
       "      <td>168259</td>\n",
       "      <td>9.335014</td>\n",
       "      <td>190000000</td>\n",
       "      <td>1506249360</td>\n",
       "      <td>Furious 7</td>\n",
       "      <td>car race|speed|revenge|suspense|car</td>\n",
       "      <td>137</td>\n",
       "      <td>Action|Crime|Thriller</td>\n",
       "      <td>4/1/15</td>\n",
       "      <td>2947</td>\n",
       "      <td>7.3</td>\n",
       "      <td>2015</td>\n",
       "      <td>1.747999e+08</td>\n",
       "      <td>1.385749e+09</td>\n",
       "    </tr>\n",
       "  </tbody>\n",
       "</table>\n",
       "</div>"
      ],
      "text/plain": [
       "       id  popularity     budget     revenue                original_title  \\\n",
       "0  135397   32.985763  150000000  1513528810                Jurassic World   \n",
       "1   76341   28.419936  150000000   378436354            Mad Max: Fury Road   \n",
       "2  262500   13.112507  110000000   295238201                     Insurgent   \n",
       "3  140607   11.173104  200000000  2068178225  Star Wars: The Force Awakens   \n",
       "4  168259    9.335014  190000000  1506249360                     Furious 7   \n",
       "\n",
       "                                            keywords  runtime  \\\n",
       "0  monster|dna|tyrannosaurus rex|velociraptor|island      124   \n",
       "1   future|chase|post-apocalyptic|dystopia|australia      120   \n",
       "2  based on novel|revolution|dystopia|sequel|dyst...      119   \n",
       "3              android|spaceship|jedi|space opera|3d      136   \n",
       "4                car race|speed|revenge|suspense|car      137   \n",
       "\n",
       "                                      genres release_date  vote_count  \\\n",
       "0  Action|Adventure|Science Fiction|Thriller       6/9/15        5562   \n",
       "1  Action|Adventure|Science Fiction|Thriller      5/13/15        6185   \n",
       "2         Adventure|Science Fiction|Thriller      3/18/15        2480   \n",
       "3   Action|Adventure|Science Fiction|Fantasy     12/15/15        5292   \n",
       "4                      Action|Crime|Thriller       4/1/15        2947   \n",
       "\n",
       "   vote_average  release_year    budget_adj   revenue_adj  \n",
       "0           6.5          2015  1.379999e+08  1.392446e+09  \n",
       "1           7.1          2015  1.379999e+08  3.481613e+08  \n",
       "2           6.3          2015  1.012000e+08  2.716190e+08  \n",
       "3           7.5          2015  1.839999e+08  1.902723e+09  \n",
       "4           7.3          2015  1.747999e+08  1.385749e+09  "
      ]
     },
     "execution_count": 95,
     "metadata": {},
     "output_type": "execute_result"
    }
   ],
   "source": [
    "movies_df.drop(['imdb_id', 'homepage','tagline','overview','cast','director','production_companies'],axis=1, inplace=True)\n",
    "movies_df.head()"
   ]
  },
  {
   "cell_type": "code",
   "execution_count": 96,
   "metadata": {},
   "outputs": [],
   "source": [
    "#drop the duplicate records from the dataframe\n",
    "movies_df.drop_duplicates(inplace=True)"
   ]
  },
  {
   "cell_type": "code",
   "execution_count": 97,
   "metadata": {},
   "outputs": [],
   "source": [
    "#replace 0s with Null values in budget\n",
    "movies_df['budget'] = movies_df['budget'].replace({0:np.nan})"
   ]
  },
  {
   "cell_type": "code",
   "execution_count": 98,
   "metadata": {},
   "outputs": [],
   "source": [
    "#replace 0s with Null values in budget\n",
    "movies_df['revenue'] = movies_df['revenue'].replace({0:np.nan})"
   ]
  },
  {
   "cell_type": "code",
   "execution_count": 99,
   "metadata": {},
   "outputs": [],
   "source": [
    "#replace 0s with Null values in budget\n",
    "movies_df['runtime'] = movies_df['runtime'].replace({0:np.nan})"
   ]
  },
  {
   "cell_type": "code",
   "execution_count": 100,
   "metadata": {},
   "outputs": [],
   "source": [
    "#drop the records with Null values in cast, director, genres.\n",
    "movies_df.dropna(subset=['genres'],how='any',inplace=True)"
   ]
  },
  {
   "cell_type": "markdown",
   "metadata": {},
   "source": [
    "We had found a small number of Null values for *genre*. So we have dropped those records as they would not affect our analysis as such."
   ]
  },
  {
   "cell_type": "markdown",
   "metadata": {},
   "source": [
    "<a id='eda'></a>\n",
    "## Exploratory Data Analysis\n",
    "\n",
    "Since we are done with the cleaning and the dataframe looking good, we can continue on our analysis. Now we move on to find answers to questions that we had posed.\n",
    "\n",
    "### 1. Trends in popularity\n",
    "\n",
    "**a. Are movies more popular today or in the yesteryears?**<br>\n",
    "    To answer this, we will plot a line graph showing the plot of popularity versus years. This will show us the gradient to be increasing or decreasing as per trend."
   ]
  },
  {
   "cell_type": "markdown",
   "metadata": {},
   "source": [
    "We first calculate the mean and the median so that we can plot both on the same graph to check how both fare up."
   ]
  },
  {
   "cell_type": "code",
   "execution_count": 101,
   "metadata": {},
   "outputs": [
    {
     "data": {
      "text/plain": [
       "release_year\n",
       "1960    0.458932\n",
       "1961    0.422827\n",
       "1962    0.454783\n",
       "1963    0.502706\n",
       "1964    0.412428\n",
       "Name: popularity, dtype: float64"
      ]
     },
     "execution_count": 101,
     "metadata": {},
     "output_type": "execute_result"
    }
   ],
   "source": [
    "#calculating the mean of popularity over the years\n",
    "mean_popularity = movies_df.groupby('release_year').mean()['popularity']\n",
    "mean_popularity.head()"
   ]
  },
  {
   "cell_type": "code",
   "execution_count": 102,
   "metadata": {
    "scrolled": true
   },
   "outputs": [
    {
     "data": {
      "text/plain": [
       "release_year\n",
       "1960    0.268273\n",
       "1961    0.265092\n",
       "1962    0.299075\n",
       "1963    0.249940\n",
       "1964    0.194472\n",
       "Name: popularity, dtype: float64"
      ]
     },
     "execution_count": 102,
     "metadata": {},
     "output_type": "execute_result"
    }
   ],
   "source": [
    "#calculating the median of popularity\n",
    "median_popularity = movies_df.groupby('release_year').median()['popularity']\n",
    "median_popularity.head()"
   ]
  },
  {
   "cell_type": "markdown",
   "metadata": {},
   "source": [
    "The mean and median is calculated for each year using the **'release_year'** column. We **group** the data by release year and then calculate the mean or median so that we get the mean/median for each year for all movies release in that particular year.\n",
    "\n",
    "This helps us plot the popularity per year for the movies."
   ]
  },
  {
   "cell_type": "markdown",
   "metadata": {},
   "source": [
    "Now we plot the graph using matplotlib.pyplot"
   ]
  },
  {
   "cell_type": "code",
   "execution_count": 103,
   "metadata": {
    "scrolled": false
   },
   "outputs": [
    {
     "data": {
      "image/png": "[encoded data removed]",
      "text/plain": [
       "<Figure size 720x576 with 1 Axes>"
      ]
     },
     "metadata": {},
     "output_type": "display_data"
    }
   ],
   "source": [
    "#setting the graph background\n",
    "sns.set_style('whitegrid')\n",
    "\n",
    "plt.subplots(figsize=(10,8))\n",
    "#plotting the mean of popularity\n",
    "mean_popularity.plot(color='r', label='mean')\n",
    "\n",
    "#plotting the median popularity against year\n",
    "median_popularity.plot(label='median')\n",
    "#naming the x and y axes and the title\n",
    "plt.title('Popularity versus Years')\n",
    "plt.xlabel('Year')\n",
    "plt.ylabel('Popularity of Movies');\n",
    "plt.legend();"
   ]
  },
  {
   "cell_type": "markdown",
   "metadata": {},
   "source": [
    "We note that the popularity of movies has been on the rise. The mean on popularity sees an exponential growth in the recent years. This can be attributed to more number of votes that may be cast, since people in recent years have better access to movies in the internet age. \n",
    "\n",
    "The plot of median is slightly steady when compared to mean but we can clearly note that there in an **increase in the popularity of movies** over the years. This can be because people have **better access to movies** today due to the *internet*."
   ]
  },
  {
   "cell_type": "markdown",
   "metadata": {},
   "source": [
    "**b. How are revenues impacted with popularity?**"
   ]
  },
  {
   "cell_type": "markdown",
   "metadata": {},
   "source": [
    "Now let us check how the revenue levels fare against the popularity index. For this I will be considering only the latest 5 years since there are a lot many years to compare. The latest 5 year data will give us a good insight to the trend.\n",
    "\n",
    "We will divide the revenue into four levels, namely: <br>\n",
    "- Low<br>\n",
    "- Medium<br>\n",
    "- Moderately high<br>\n",
    "- High<br>\n",
    "\n",
    "We will be using **min, 25%, 50%, 75% and the max** values in order to calculate the levels. I have used the pandas cut funtion to divide the revenue into the selected bins. The creation of bins makes plotting graphs and understanding them more clear instead of plotting numbers directly.\n"
   ]
  },
  {
   "cell_type": "code",
   "execution_count": 114,
   "metadata": {
    "scrolled": false
   },
   "outputs": [
    {
     "name": "stderr",
     "output_type": "stream",
     "text": [
      "/home/gautam/anaconda3/lib/python3.7/site-packages/ipykernel_launcher.py:17: SettingWithCopyWarning: \n",
      "A value is trying to be set on a copy of a slice from a DataFrame.\n",
      "Try using .loc[row_indexer,col_indexer] = value instead\n",
      "\n",
      "See the caveats in the documentation: http://pandas.pydata.org/pandas-docs/stable/indexing.html#indexing-view-versus-copy\n"
     ]
    },
    {
     "data": {
      "text/html": [
       "<div>\n",
       "<style scoped>\n",
       "    .dataframe tbody tr th:only-of-type {\n",
       "        vertical-align: middle;\n",
       "    }\n",
       "\n",
       "    .dataframe tbody tr th {\n",
       "        vertical-align: top;\n",
       "    }\n",
       "\n",
       "    .dataframe thead th {\n",
       "        text-align: right;\n",
       "    }\n",
       "</style>\n",
       "<table border=\"1\" class=\"dataframe\">\n",
       "  <thead>\n",
       "    <tr style=\"text-align: right;\">\n",
       "      <th></th>\n",
       "      <th>id</th>\n",
       "      <th>popularity</th>\n",
       "      <th>budget</th>\n",
       "      <th>revenue</th>\n",
       "      <th>original_title</th>\n",
       "      <th>keywords</th>\n",
       "      <th>runtime</th>\n",
       "      <th>genres</th>\n",
       "      <th>release_date</th>\n",
       "      <th>vote_count</th>\n",
       "      <th>vote_average</th>\n",
       "      <th>release_year</th>\n",
       "      <th>budget_adj</th>\n",
       "      <th>revenue_adj</th>\n",
       "      <th>revenue_levels</th>\n",
       "    </tr>\n",
       "  </thead>\n",
       "  <tbody>\n",
       "    <tr>\n",
       "      <th>0</th>\n",
       "      <td>135397</td>\n",
       "      <td>32.985763</td>\n",
       "      <td>150000000.0</td>\n",
       "      <td>1.513529e+09</td>\n",
       "      <td>Jurassic World</td>\n",
       "      <td>monster|dna|tyrannosaurus rex|velociraptor|island</td>\n",
       "      <td>124.0</td>\n",
       "      <td>Action|Adventure|Science Fiction|Thriller</td>\n",
       "      <td>6/9/15</td>\n",
       "      <td>5562</td>\n",
       "      <td>6.5</td>\n",
       "      <td>2015</td>\n",
       "      <td>1.379999e+08</td>\n",
       "      <td>1.392446e+09</td>\n",
       "      <td>High</td>\n",
       "    </tr>\n",
       "    <tr>\n",
       "      <th>1</th>\n",
       "      <td>76341</td>\n",
       "      <td>28.419936</td>\n",
       "      <td>150000000.0</td>\n",
       "      <td>3.784364e+08</td>\n",
       "      <td>Mad Max: Fury Road</td>\n",
       "      <td>future|chase|post-apocalyptic|dystopia|australia</td>\n",
       "      <td>120.0</td>\n",
       "      <td>Action|Adventure|Science Fiction|Thriller</td>\n",
       "      <td>5/13/15</td>\n",
       "      <td>6185</td>\n",
       "      <td>7.1</td>\n",
       "      <td>2015</td>\n",
       "      <td>1.379999e+08</td>\n",
       "      <td>3.481613e+08</td>\n",
       "      <td>High</td>\n",
       "    </tr>\n",
       "    <tr>\n",
       "      <th>2</th>\n",
       "      <td>262500</td>\n",
       "      <td>13.112507</td>\n",
       "      <td>110000000.0</td>\n",
       "      <td>2.952382e+08</td>\n",
       "      <td>Insurgent</td>\n",
       "      <td>based on novel|revolution|dystopia|sequel|dyst...</td>\n",
       "      <td>119.0</td>\n",
       "      <td>Adventure|Science Fiction|Thriller</td>\n",
       "      <td>3/18/15</td>\n",
       "      <td>2480</td>\n",
       "      <td>6.3</td>\n",
       "      <td>2015</td>\n",
       "      <td>1.012000e+08</td>\n",
       "      <td>2.716190e+08</td>\n",
       "      <td>High</td>\n",
       "    </tr>\n",
       "    <tr>\n",
       "      <th>3</th>\n",
       "      <td>140607</td>\n",
       "      <td>11.173104</td>\n",
       "      <td>200000000.0</td>\n",
       "      <td>2.068178e+09</td>\n",
       "      <td>Star Wars: The Force Awakens</td>\n",
       "      <td>android|spaceship|jedi|space opera|3d</td>\n",
       "      <td>136.0</td>\n",
       "      <td>Action|Adventure|Science Fiction|Fantasy</td>\n",
       "      <td>12/15/15</td>\n",
       "      <td>5292</td>\n",
       "      <td>7.5</td>\n",
       "      <td>2015</td>\n",
       "      <td>1.839999e+08</td>\n",
       "      <td>1.902723e+09</td>\n",
       "      <td>High</td>\n",
       "    </tr>\n",
       "    <tr>\n",
       "      <th>4</th>\n",
       "      <td>168259</td>\n",
       "      <td>9.335014</td>\n",
       "      <td>190000000.0</td>\n",
       "      <td>1.506249e+09</td>\n",
       "      <td>Furious 7</td>\n",
       "      <td>car race|speed|revenge|suspense|car</td>\n",
       "      <td>137.0</td>\n",
       "      <td>Action|Crime|Thriller</td>\n",
       "      <td>4/1/15</td>\n",
       "      <td>2947</td>\n",
       "      <td>7.3</td>\n",
       "      <td>2015</td>\n",
       "      <td>1.747999e+08</td>\n",
       "      <td>1.385749e+09</td>\n",
       "      <td>High</td>\n",
       "    </tr>\n",
       "    <tr>\n",
       "      <th>5</th>\n",
       "      <td>281957</td>\n",
       "      <td>9.110700</td>\n",
       "      <td>135000000.0</td>\n",
       "      <td>5.329505e+08</td>\n",
       "      <td>The Revenant</td>\n",
       "      <td>father-son relationship|rape|based on novel|mo...</td>\n",
       "      <td>156.0</td>\n",
       "      <td>Western|Drama|Adventure|Thriller</td>\n",
       "      <td>12/25/15</td>\n",
       "      <td>3929</td>\n",
       "      <td>7.2</td>\n",
       "      <td>2015</td>\n",
       "      <td>1.241999e+08</td>\n",
       "      <td>4.903142e+08</td>\n",
       "      <td>High</td>\n",
       "    </tr>\n",
       "    <tr>\n",
       "      <th>6</th>\n",
       "      <td>87101</td>\n",
       "      <td>8.654359</td>\n",
       "      <td>155000000.0</td>\n",
       "      <td>4.406035e+08</td>\n",
       "      <td>Terminator Genisys</td>\n",
       "      <td>saving the world|artificial intelligence|cybor...</td>\n",
       "      <td>125.0</td>\n",
       "      <td>Science Fiction|Action|Thriller|Adventure</td>\n",
       "      <td>6/23/15</td>\n",
       "      <td>2598</td>\n",
       "      <td>5.8</td>\n",
       "      <td>2015</td>\n",
       "      <td>1.425999e+08</td>\n",
       "      <td>4.053551e+08</td>\n",
       "      <td>High</td>\n",
       "    </tr>\n",
       "    <tr>\n",
       "      <th>7</th>\n",
       "      <td>286217</td>\n",
       "      <td>7.667400</td>\n",
       "      <td>108000000.0</td>\n",
       "      <td>5.953803e+08</td>\n",
       "      <td>The Martian</td>\n",
       "      <td>based on novel|mars|nasa|isolation|botanist</td>\n",
       "      <td>141.0</td>\n",
       "      <td>Drama|Adventure|Science Fiction</td>\n",
       "      <td>9/30/15</td>\n",
       "      <td>4572</td>\n",
       "      <td>7.6</td>\n",
       "      <td>2015</td>\n",
       "      <td>9.935996e+07</td>\n",
       "      <td>5.477497e+08</td>\n",
       "      <td>High</td>\n",
       "    </tr>\n",
       "    <tr>\n",
       "      <th>8</th>\n",
       "      <td>211672</td>\n",
       "      <td>7.404165</td>\n",
       "      <td>74000000.0</td>\n",
       "      <td>1.156731e+09</td>\n",
       "      <td>Minions</td>\n",
       "      <td>assistant|aftercreditsstinger|duringcreditssti...</td>\n",
       "      <td>91.0</td>\n",
       "      <td>Family|Animation|Adventure|Comedy</td>\n",
       "      <td>6/17/15</td>\n",
       "      <td>2893</td>\n",
       "      <td>6.5</td>\n",
       "      <td>2015</td>\n",
       "      <td>6.807997e+07</td>\n",
       "      <td>1.064192e+09</td>\n",
       "      <td>High</td>\n",
       "    </tr>\n",
       "    <tr>\n",
       "      <th>9</th>\n",
       "      <td>150540</td>\n",
       "      <td>6.326804</td>\n",
       "      <td>175000000.0</td>\n",
       "      <td>8.537086e+08</td>\n",
       "      <td>Inside Out</td>\n",
       "      <td>dream|cartoon|imaginary friend|animation|kid</td>\n",
       "      <td>94.0</td>\n",
       "      <td>Comedy|Animation|Family</td>\n",
       "      <td>6/9/15</td>\n",
       "      <td>3935</td>\n",
       "      <td>8.0</td>\n",
       "      <td>2015</td>\n",
       "      <td>1.609999e+08</td>\n",
       "      <td>7.854116e+08</td>\n",
       "      <td>High</td>\n",
       "    </tr>\n",
       "  </tbody>\n",
       "</table>\n",
       "</div>"
      ],
      "text/plain": [
       "       id  popularity       budget       revenue  \\\n",
       "0  135397   32.985763  150000000.0  1.513529e+09   \n",
       "1   76341   28.419936  150000000.0  3.784364e+08   \n",
       "2  262500   13.112507  110000000.0  2.952382e+08   \n",
       "3  140607   11.173104  200000000.0  2.068178e+09   \n",
       "4  168259    9.335014  190000000.0  1.506249e+09   \n",
       "5  281957    9.110700  135000000.0  5.329505e+08   \n",
       "6   87101    8.654359  155000000.0  4.406035e+08   \n",
       "7  286217    7.667400  108000000.0  5.953803e+08   \n",
       "8  211672    7.404165   74000000.0  1.156731e+09   \n",
       "9  150540    6.326804  175000000.0  8.537086e+08   \n",
       "\n",
       "                 original_title  \\\n",
       "0                Jurassic World   \n",
       "1            Mad Max: Fury Road   \n",
       "2                     Insurgent   \n",
       "3  Star Wars: The Force Awakens   \n",
       "4                     Furious 7   \n",
       "5                  The Revenant   \n",
       "6            Terminator Genisys   \n",
       "7                   The Martian   \n",
       "8                       Minions   \n",
       "9                    Inside Out   \n",
       "\n",
       "                                            keywords  runtime  \\\n",
       "0  monster|dna|tyrannosaurus rex|velociraptor|island    124.0   \n",
       "1   future|chase|post-apocalyptic|dystopia|australia    120.0   \n",
       "2  based on novel|revolution|dystopia|sequel|dyst...    119.0   \n",
       "3              android|spaceship|jedi|space opera|3d    136.0   \n",
       "4                car race|speed|revenge|suspense|car    137.0   \n",
       "5  father-son relationship|rape|based on novel|mo...    156.0   \n",
       "6  saving the world|artificial intelligence|cybor...    125.0   \n",
       "7        based on novel|mars|nasa|isolation|botanist    141.0   \n",
       "8  assistant|aftercreditsstinger|duringcreditssti...     91.0   \n",
       "9       dream|cartoon|imaginary friend|animation|kid     94.0   \n",
       "\n",
       "                                      genres release_date  vote_count  \\\n",
       "0  Action|Adventure|Science Fiction|Thriller       6/9/15        5562   \n",
       "1  Action|Adventure|Science Fiction|Thriller      5/13/15        6185   \n",
       "2         Adventure|Science Fiction|Thriller      3/18/15        2480   \n",
       "3   Action|Adventure|Science Fiction|Fantasy     12/15/15        5292   \n",
       "4                      Action|Crime|Thriller       4/1/15        2947   \n",
       "5           Western|Drama|Adventure|Thriller     12/25/15        3929   \n",
       "6  Science Fiction|Action|Thriller|Adventure      6/23/15        2598   \n",
       "7            Drama|Adventure|Science Fiction      9/30/15        4572   \n",
       "8          Family|Animation|Adventure|Comedy      6/17/15        2893   \n",
       "9                    Comedy|Animation|Family       6/9/15        3935   \n",
       "\n",
       "   vote_average  release_year    budget_adj   revenue_adj revenue_levels  \n",
       "0           6.5          2015  1.379999e+08  1.392446e+09           High  \n",
       "1           7.1          2015  1.379999e+08  3.481613e+08           High  \n",
       "2           6.3          2015  1.012000e+08  2.716190e+08           High  \n",
       "3           7.5          2015  1.839999e+08  1.902723e+09           High  \n",
       "4           7.3          2015  1.747999e+08  1.385749e+09           High  \n",
       "5           7.2          2015  1.241999e+08  4.903142e+08           High  \n",
       "6           5.8          2015  1.425999e+08  4.053551e+08           High  \n",
       "7           7.6          2015  9.935996e+07  5.477497e+08           High  \n",
       "8           6.5          2015  6.807997e+07  1.064192e+09           High  \n",
       "9           8.0          2015  1.609999e+08  7.854116e+08           High  "
      ]
     },
     "execution_count": 114,
     "metadata": {},
     "output_type": "execute_result"
    }
   ],
   "source": [
    "# find quartile, max and min values\n",
    "df_recent = movies_df.query(\"release_year > 2010\")\n",
    "min_value = movies_df['revenue'].min()\n",
    "first_quantile = movies_df['revenue'].describe()[4]\n",
    "second_quantile = movies_df['revenue'].describe()[5]\n",
    "third_quantile = movies_df['revenue'].describe()[6]\n",
    "max_value = movies_df['revenue'].max()\n",
    "\n",
    "# Bin edges will be used to divide the data into groups\n",
    "bin_edges = [ min_value, first_quantile, second_quantile, third_quantile, max_value]\n",
    "\n",
    "# The four budget level groups\n",
    "bin_names = [ 'Low', 'Medium', 'Moderately High', 'High'] \n",
    "\n",
    "# Creates budget_levels column\n",
    "name = '{}_levels'.format('revenue')\n",
    "df_recent[name] = pd.cut(movies_df['revenue'], bin_edges, labels=bin_names, include_lowest = True)\n",
    "df_recent.head(10)\n"
   ]
  },
  {
   "cell_type": "markdown",
   "metadata": {},
   "source": [
    "We can note in the result that the new column 'revenue_levels' has been created with the corresponding level mentioned. Since we replaced '0' revenue with NaN, we see that the revenue levels is also NaN. \n",
    "\n",
    "Now we group the data as per the year of release and the revenue level. This gives us the revenue stats for each year with the levels. "
   ]
  },
  {
   "cell_type": "code",
   "execution_count": 105,
   "metadata": {
    "scrolled": true
   },
   "outputs": [
    {
     "data": {
      "text/html": [
       "<div>\n",
       "<style scoped>\n",
       "    .dataframe tbody tr th:only-of-type {\n",
       "        vertical-align: middle;\n",
       "    }\n",
       "\n",
       "    .dataframe tbody tr th {\n",
       "        vertical-align: top;\n",
       "    }\n",
       "\n",
       "    .dataframe thead th {\n",
       "        text-align: right;\n",
       "    }\n",
       "</style>\n",
       "<table border=\"1\" class=\"dataframe\">\n",
       "  <thead>\n",
       "    <tr style=\"text-align: right;\">\n",
       "      <th></th>\n",
       "      <th></th>\n",
       "      <th>id</th>\n",
       "      <th>popularity</th>\n",
       "      <th>budget</th>\n",
       "      <th>revenue</th>\n",
       "      <th>runtime</th>\n",
       "      <th>vote_count</th>\n",
       "      <th>vote_average</th>\n",
       "      <th>budget_adj</th>\n",
       "      <th>revenue_adj</th>\n",
       "    </tr>\n",
       "    <tr>\n",
       "      <th>release_year</th>\n",
       "      <th>revenue_levels</th>\n",
       "      <th></th>\n",
       "      <th></th>\n",
       "      <th></th>\n",
       "      <th></th>\n",
       "      <th></th>\n",
       "      <th></th>\n",
       "      <th></th>\n",
       "      <th></th>\n",
       "      <th></th>\n",
       "    </tr>\n",
       "  </thead>\n",
       "  <tbody>\n",
       "    <tr>\n",
       "      <th>2014</th>\n",
       "      <th>High</th>\n",
       "      <td>171536.0</td>\n",
       "      <td>3.160100</td>\n",
       "      <td>65000000.0</td>\n",
       "      <td>241389711.5</td>\n",
       "      <td>108.5</td>\n",
       "      <td>1618.5</td>\n",
       "      <td>6.45</td>\n",
       "      <td>5.987092e+07</td>\n",
       "      <td>2.223419e+08</td>\n",
       "    </tr>\n",
       "    <tr>\n",
       "      <th rowspan=\"4\" valign=\"top\">2015</th>\n",
       "      <th>Low</th>\n",
       "      <td>293281.5</td>\n",
       "      <td>0.572387</td>\n",
       "      <td>8000000.0</td>\n",
       "      <td>965064.5</td>\n",
       "      <td>100.0</td>\n",
       "      <td>87.5</td>\n",
       "      <td>5.90</td>\n",
       "      <td>0.000000e+00</td>\n",
       "      <td>8.878589e+05</td>\n",
       "    </tr>\n",
       "    <tr>\n",
       "      <th>Medium</th>\n",
       "      <td>273477.0</td>\n",
       "      <td>1.046518</td>\n",
       "      <td>14500000.0</td>\n",
       "      <td>16661077.0</td>\n",
       "      <td>106.0</td>\n",
       "      <td>283.0</td>\n",
       "      <td>6.20</td>\n",
       "      <td>9.199996e+06</td>\n",
       "      <td>1.532818e+07</td>\n",
       "    </tr>\n",
       "    <tr>\n",
       "      <th>Moderately High</th>\n",
       "      <td>274541.0</td>\n",
       "      <td>1.696682</td>\n",
       "      <td>16500000.0</td>\n",
       "      <td>59339326.5</td>\n",
       "      <td>107.0</td>\n",
       "      <td>575.5</td>\n",
       "      <td>6.40</td>\n",
       "      <td>1.379999e+07</td>\n",
       "      <td>5.459216e+07</td>\n",
       "    </tr>\n",
       "    <tr>\n",
       "      <th>High</th>\n",
       "      <td>254128.0</td>\n",
       "      <td>3.877764</td>\n",
       "      <td>77500000.0</td>\n",
       "      <td>240360392.0</td>\n",
       "      <td>118.0</td>\n",
       "      <td>1575.0</td>\n",
       "      <td>6.50</td>\n",
       "      <td>6.899997e+07</td>\n",
       "      <td>2.211315e+08</td>\n",
       "    </tr>\n",
       "  </tbody>\n",
       "</table>\n",
       "</div>"
      ],
      "text/plain": [
       "                                    id  popularity      budget      revenue  \\\n",
       "release_year revenue_levels                                                   \n",
       "2014         High             171536.0    3.160100  65000000.0  241389711.5   \n",
       "2015         Low              293281.5    0.572387   8000000.0     965064.5   \n",
       "             Medium           273477.0    1.046518  14500000.0   16661077.0   \n",
       "             Moderately High  274541.0    1.696682  16500000.0   59339326.5   \n",
       "             High             254128.0    3.877764  77500000.0  240360392.0   \n",
       "\n",
       "                              runtime  vote_count  vote_average    budget_adj  \\\n",
       "release_year revenue_levels                                                     \n",
       "2014         High               108.5      1618.5          6.45  5.987092e+07   \n",
       "2015         Low                100.0        87.5          5.90  0.000000e+00   \n",
       "             Medium             106.0       283.0          6.20  9.199996e+06   \n",
       "             Moderately High    107.0       575.5          6.40  1.379999e+07   \n",
       "             High               118.0      1575.0          6.50  6.899997e+07   \n",
       "\n",
       "                               revenue_adj  \n",
       "release_year revenue_levels                 \n",
       "2014         High             2.223419e+08  \n",
       "2015         Low              8.878589e+05  \n",
       "             Medium           1.532818e+07  \n",
       "             Moderately High  5.459216e+07  \n",
       "             High             2.211315e+08  "
      ]
     },
     "execution_count": 105,
     "metadata": {},
     "output_type": "execute_result"
    }
   ],
   "source": [
    "# group the dataframe we created above with each revenue levels in each year, find the popularity meadian\n",
    "dfrecent_summary = df_recent.groupby(['release_year','revenue_levels']).median()\n",
    "dfrecent_summary.tail()"
   ]
  },
  {
   "cell_type": "markdown",
   "metadata": {},
   "source": [
    "A bar plot is created with each year having 4 corresponding bars with each bar representing the revenue level. This helps us compare the revenues per year.\n",
    "\n"
   ]
  },
  {
   "cell_type": "code",
   "execution_count": 106,
   "metadata": {
    "scrolled": false
   },
   "outputs": [
    {
     "data": {
      "image/png": "[encoded data removed]",
      "text/plain": [
       "<Figure size 720x360 with 1 Axes>"
      ]
     },
     "metadata": {},
     "output_type": "display_data"
    }
   ],
   "source": [
    "# positions and width for the bars\n",
    "pos = list(range(len(dfq2_summary.query('revenue_levels ==\"Low\"'))))\n",
    "width = 0.2 \n",
    "sns.set_style('whitegrid')\n",
    "\n",
    "# Plotting the bars\n",
    "fig, ax = plt.subplots(figsize=(10,5))\n",
    "\n",
    "#Bar with Low data, in position pos,\n",
    "plt.bar(pos, dfq2_summary.query('revenue_levels ==\"Low\"')['popularity'], width, alpha=0.5, \n",
    "        color='#9633FF', label= 'Low') \n",
    "\n",
    "#Bar with Medium data,\n",
    "# in position pos + some width buffer,\n",
    "plt.bar([p + width for p in pos], dfq2_summary.query('revenue_levels ==\"Medium\"')['popularity'], width, alpha=0.5, \n",
    "        color='#3396FF',label='Medium') \n",
    "\n",
    "#Bar with Moderately High data,\n",
    "plt.bar([p + width*2 for p in pos], dfq2_summary.query('revenue_levels ==\"Moderately High\"')['popularity'], \n",
    "        width, alpha=0.5,color='#7AFF33',label='Moderately High') \n",
    "\n",
    "# Create a bar with High data,\n",
    "plt.bar([p + width*3 for p in pos], dfq2_summary.query('revenue_levels ==\"High\"')['popularity'], width, \n",
    "        alpha=0.5, color='#FF5733', label='High')\n",
    "\n",
    "# Set the x and y axis label\n",
    "ax.set_ylabel('popularity')\n",
    "ax.set_xlabel('Years')\n",
    "# Set the chart's title\n",
    "ax.set_title('Popularity for Revenue Levels in Recent Years')\n",
    "\n",
    "# Set the position of the x ticks\n",
    "ax.set_xticks([p + 1.5 * width for p in pos])\n",
    "# Set the labels for the x ticks\n",
    "ax.set_xticklabels([2011,2012,2013,2014,2015])\n",
    "# Adding the legend and showing the plot\n",
    "plt.legend();"
   ]
  },
  {
   "cell_type": "markdown",
   "metadata": {},
   "source": [
    "The plot is quite amazing! We can note the each year the popularity is *directly proportional* to the *revenue*. The means that if a movie is popular among people, then more people go out and watch the movie. Hence marketing the movies makes sense. if people have knowledge about a movie, there are a lot of chances that people go out and watch them.\n",
    "\n",
    "Also, popularity of movies as a whole is increasing every year. This could be the rise of Internet. More prople have idea about the movie industry and follow them.\n",
    "\n",
    "**The movie industry is Booming!**"
   ]
  },
  {
   "cell_type": "markdown",
   "metadata": {},
   "source": [
    "### Trends in Genres\n",
    "\n",
    "**a. Which Genre movies were most made?**<br>\n"
   ]
  },
  {
   "cell_type": "markdown",
   "metadata": {},
   "source": [
    "Since the genre column of the movies dataframe contains pipe separated values, we need to first separate those values so that we can compare them. We have already taken care of the Null values. The following code splits the data by '|' and retrieves data into a python list.\n",
    "\n",
    "Note: the list will have values repeated since each genre can be associated with  lot of movies."
   ]
  },
  {
   "cell_type": "code",
   "execution_count": 107,
   "metadata": {
    "scrolled": false
   },
   "outputs": [
    {
     "data": {
      "text/plain": [
       "['Action',\n",
       " 'Adventure',\n",
       " 'Science Fiction',\n",
       " 'Thriller',\n",
       " 'Action',\n",
       " 'Adventure',\n",
       " 'Science Fiction',\n",
       " 'Thriller',\n",
       " 'Adventure',\n",
       " 'Science Fiction']"
      ]
     },
     "execution_count": 107,
     "metadata": {},
     "output_type": "execute_result"
    }
   ],
   "source": [
    "# get the list of all possible genres.\n",
    "genres_list = movies_df['genres'].str.cat(sep='|').split('|')\n",
    "#seeing the first 10 obtained - sample\n",
    "genres_list[:10]"
   ]
  },
  {
   "cell_type": "markdown",
   "metadata": {},
   "source": [
    "Once we get the list of all the genres, we create a dataframe of the genres. Using the dataframe, we could get the genres with the most number of recurrances. These recurring genres are associated with all the movies created in that genre."
   ]
  },
  {
   "cell_type": "code",
   "execution_count": 108,
   "metadata": {},
   "outputs": [
    {
     "data": {
      "text/plain": [
       "Drama              4760\n",
       "Comedy             3793\n",
       "Thriller           2907\n",
       "Action             2384\n",
       "Romance            1712\n",
       "Horror             1637\n",
       "Adventure          1471\n",
       "Crime              1354\n",
       "Family             1231\n",
       "Science Fiction    1229\n",
       "Name: genre, dtype: int64"
      ]
     },
     "execution_count": 108,
     "metadata": {},
     "output_type": "execute_result"
    }
   ],
   "source": [
    "#creating dataframe of genres\n",
    "genres_df = pd.DataFrame({'genre':genres_list})\n",
    "# getting the count of each genre\n",
    "top_genres = genres_df['genre'].value_counts().head(10)\n",
    "top_genres"
   ]
  },
  {
   "cell_type": "markdown",
   "metadata": {},
   "source": [
    "Now that we have the top 10 genres, we can plot a pie chart to visualize what part of the industry produces each of there Genres."
   ]
  },
  {
   "cell_type": "code",
   "execution_count": 109,
   "metadata": {
    "scrolled": true
   },
   "outputs": [
    {
     "data": {
      "image/png": "[encoded data removed]",
      "text/plain": [
       "<Figure size 432x432 with 1 Axes>"
      ]
     },
     "metadata": {},
     "output_type": "display_data"
    }
   ],
   "source": [
    "plt.subplots(figsize=(6,6))\n",
    "top_genres.plot.pie();\n",
    "plt.title(\"Top 10 genres movies were created in\");"
   ]
  },
  {
   "cell_type": "markdown",
   "metadata": {},
   "source": [
    "From the Pie chart, it is clear that of the top 10 Genres, **'Drama'** movies were the most made followed by **Comedy**.  "
   ]
  },
  {
   "cell_type": "markdown",
   "metadata": {},
   "source": [
    "**b. What genres are more popular?**\n",
    "\n",
    "To check the popularity, I decided to get the popularity of each movies and create a dataframe by adding that particular popularity rating against all the Genres that the movies is part of. In this way we get to calculate the mean popularity obtainied by all the Genres. "
   ]
  },
  {
   "cell_type": "markdown",
   "metadata": {},
   "source": [
    "A function **'get_genre_property'** has been designed that takes care of retrieving the property associated with the Genres. For example, when popularity of all the genres is required, we pass 'popularity' as a parameter to the function. The funtion retrieves all the popularity ratings, places it against the genres the movie belongs to. This can be done for budget, revenue as well. "
   ]
  },
  {
   "cell_type": "code",
   "execution_count": 110,
   "metadata": {},
   "outputs": [],
   "source": [
    "#funtion definition\n",
    "def get_genre_property(property):\n",
    "    #retreive genres and required property\n",
    "    genre_property=movies_df[['genres',property]]\n",
    "    genre_property_list = []\n",
    "    \n",
    "    #iterate through each record\n",
    "    for index,column in genre_property.iterrows():\n",
    "        #since each movie has many genres, get all genres using split\n",
    "        current_movie = column['genres'].split('|')\n",
    "        #get property value\n",
    "        current_property = column[property]\n",
    "        \n",
    "        #Iterate each genre of current movie\n",
    "        for each_genre in current_movie:\n",
    "            #place property value againt the genre\n",
    "            genre_property_list.append([each_genre,current_property])\n",
    "            \n",
    "    genre_property_list\n",
    "    #create a dataframe from the list that is created and retrun the dataframe.\n",
    "    genre_property_df = pd.DataFrame(genre_property_list,columns=['genres',property])\n",
    "    return genre_property_df"
   ]
  },
  {
   "cell_type": "code",
   "execution_count": 111,
   "metadata": {},
   "outputs": [
    {
     "data": {
      "image/png": "[encoded data removed]",
      "text/plain": [
       "<Figure size 720x864 with 1 Axes>"
      ]
     },
     "metadata": {},
     "output_type": "display_data"
    }
   ],
   "source": [
    "# getting dataframe of genre and popularity\n",
    "genre_popularity_df = get_genre_property('popularity')\n",
    "#calculate the mean popularity of each genre\n",
    "mean_genre_popularity = genre_popularity_df.groupby('genres').mean()\n",
    "plt.subplots(figsize=(10,12))\n",
    "#plotting horizontal bar\n",
    "plt.barh(mean_genre_popularity.index, mean_genre_popularity['popularity'], color='b')\n",
    "plt.xlabel('Popularity')\n",
    "plt.ylabel(\"Genre\");"
   ]
  },
  {
   "cell_type": "markdown",
   "metadata": {},
   "source": [
    "From the graph it is noticed that **Adventure, Fantasy, Science Fiction** are quite popular with people. People who watch there movies are fond and we need to create more movies in them. The cost can be a factor in creating these movies. The movies of these Genres are quite costly to make. \n",
    "\n",
    "People like Adventure and Science Fiction!"
   ]
  },
  {
   "cell_type": "markdown",
   "metadata": {},
   "source": [
    "**c. Which genres have good budget to revenue conversion?**"
   ]
  },
  {
   "cell_type": "markdown",
   "metadata": {},
   "source": [
    "We use the **get_genre_property()** function to retrieve the respective budget and revenue figures of every genre. \n",
    "We then join them to one dataframe so that we can plot a bar chart with both budget and revenue represented for each genre."
   ]
  },
  {
   "cell_type": "code",
   "execution_count": 112,
   "metadata": {},
   "outputs": [
    {
     "name": "stdout",
     "output_type": "stream",
     "text": [
      "26955\n",
      "26955\n"
     ]
    },
    {
     "data": {
      "text/html": [
       "<div>\n",
       "<style scoped>\n",
       "    .dataframe tbody tr th:only-of-type {\n",
       "        vertical-align: middle;\n",
       "    }\n",
       "\n",
       "    .dataframe tbody tr th {\n",
       "        vertical-align: top;\n",
       "    }\n",
       "\n",
       "    .dataframe thead th {\n",
       "        text-align: right;\n",
       "    }\n",
       "</style>\n",
       "<table border=\"1\" class=\"dataframe\">\n",
       "  <thead>\n",
       "    <tr style=\"text-align: right;\">\n",
       "      <th></th>\n",
       "      <th>budget</th>\n",
       "      <th>revenue</th>\n",
       "    </tr>\n",
       "    <tr>\n",
       "      <th>genres</th>\n",
       "      <th></th>\n",
       "      <th></th>\n",
       "    </tr>\n",
       "  </thead>\n",
       "  <tbody>\n",
       "    <tr>\n",
       "      <th>Action</th>\n",
       "      <td>4.629070e+07</td>\n",
       "      <td>1.377323e+08</td>\n",
       "    </tr>\n",
       "    <tr>\n",
       "      <th>Adventure</th>\n",
       "      <td>6.095670e+07</td>\n",
       "      <td>1.974209e+08</td>\n",
       "    </tr>\n",
       "    <tr>\n",
       "      <th>Animation</th>\n",
       "      <td>6.226418e+07</td>\n",
       "      <td>2.219578e+08</td>\n",
       "    </tr>\n",
       "    <tr>\n",
       "      <th>Comedy</th>\n",
       "      <td>2.898793e+07</td>\n",
       "      <td>8.037100e+07</td>\n",
       "    </tr>\n",
       "    <tr>\n",
       "      <th>Crime</th>\n",
       "      <td>2.906049e+07</td>\n",
       "      <td>7.421367e+07</td>\n",
       "    </tr>\n",
       "    <tr>\n",
       "      <th>Documentary</th>\n",
       "      <td>4.689337e+06</td>\n",
       "      <td>1.040564e+07</td>\n",
       "    </tr>\n",
       "    <tr>\n",
       "      <th>Drama</th>\n",
       "      <td>2.441806e+07</td>\n",
       "      <td>6.118977e+07</td>\n",
       "    </tr>\n",
       "    <tr>\n",
       "      <th>Family</th>\n",
       "      <td>5.498154e+07</td>\n",
       "      <td>1.738114e+08</td>\n",
       "    </tr>\n",
       "    <tr>\n",
       "      <th>Fantasy</th>\n",
       "      <td>5.880537e+07</td>\n",
       "      <td>1.913738e+08</td>\n",
       "    </tr>\n",
       "    <tr>\n",
       "      <th>Foreign</th>\n",
       "      <td>7.796279e+06</td>\n",
       "      <td>9.220853e+06</td>\n",
       "    </tr>\n",
       "    <tr>\n",
       "      <th>History</th>\n",
       "      <td>3.393827e+07</td>\n",
       "      <td>6.988195e+07</td>\n",
       "    </tr>\n",
       "    <tr>\n",
       "      <th>Horror</th>\n",
       "      <td>1.332396e+07</td>\n",
       "      <td>4.908902e+07</td>\n",
       "    </tr>\n",
       "    <tr>\n",
       "      <th>Music</th>\n",
       "      <td>2.278675e+07</td>\n",
       "      <td>6.267356e+07</td>\n",
       "    </tr>\n",
       "    <tr>\n",
       "      <th>Mystery</th>\n",
       "      <td>2.967411e+07</td>\n",
       "      <td>7.945422e+07</td>\n",
       "    </tr>\n",
       "    <tr>\n",
       "      <th>Romance</th>\n",
       "      <td>2.491700e+07</td>\n",
       "      <td>6.967464e+07</td>\n",
       "    </tr>\n",
       "    <tr>\n",
       "      <th>Science Fiction</th>\n",
       "      <td>4.378235e+07</td>\n",
       "      <td>1.471037e+08</td>\n",
       "    </tr>\n",
       "    <tr>\n",
       "      <th>TV Movie</th>\n",
       "      <td>4.966667e+06</td>\n",
       "      <td>4.200000e+07</td>\n",
       "    </tr>\n",
       "    <tr>\n",
       "      <th>Thriller</th>\n",
       "      <td>3.048310e+07</td>\n",
       "      <td>8.524561e+07</td>\n",
       "    </tr>\n",
       "    <tr>\n",
       "      <th>War</th>\n",
       "      <td>3.639232e+07</td>\n",
       "      <td>9.382043e+07</td>\n",
       "    </tr>\n",
       "    <tr>\n",
       "      <th>Western</th>\n",
       "      <td>4.230713e+07</td>\n",
       "      <td>7.252057e+07</td>\n",
       "    </tr>\n",
       "  </tbody>\n",
       "</table>\n",
       "</div>"
      ],
      "text/plain": [
       "                       budget       revenue\n",
       "genres                                     \n",
       "Action           4.629070e+07  1.377323e+08\n",
       "Adventure        6.095670e+07  1.974209e+08\n",
       "Animation        6.226418e+07  2.219578e+08\n",
       "Comedy           2.898793e+07  8.037100e+07\n",
       "Crime            2.906049e+07  7.421367e+07\n",
       "Documentary      4.689337e+06  1.040564e+07\n",
       "Drama            2.441806e+07  6.118977e+07\n",
       "Family           5.498154e+07  1.738114e+08\n",
       "Fantasy          5.880537e+07  1.913738e+08\n",
       "Foreign          7.796279e+06  9.220853e+06\n",
       "History          3.393827e+07  6.988195e+07\n",
       "Horror           1.332396e+07  4.908902e+07\n",
       "Music            2.278675e+07  6.267356e+07\n",
       "Mystery          2.967411e+07  7.945422e+07\n",
       "Romance          2.491700e+07  6.967464e+07\n",
       "Science Fiction  4.378235e+07  1.471037e+08\n",
       "TV Movie         4.966667e+06  4.200000e+07\n",
       "Thriller         3.048310e+07  8.524561e+07\n",
       "War              3.639232e+07  9.382043e+07\n",
       "Western          4.230713e+07  7.252057e+07"
      ]
     },
     "execution_count": 112,
     "metadata": {},
     "output_type": "execute_result"
    }
   ],
   "source": [
    "#getting the budget for each genres\n",
    "budget = get_genre_property('budget')\n",
    "print(len(budget))\n",
    "#calculating the mean of the budgets for each genre\n",
    "mean_budget = budget.groupby('genres').mean()\n",
    "\n",
    "#getting the revenue for each genres\n",
    "revenue = get_genre_property('revenue')\n",
    "print(len(revenue))\n",
    "#calculating the mean of the revenues for each genre\n",
    "mean_revenue = revenue.groupby('genres').mean()\n",
    "final_df = mean_budget.join(mean_revenue)\n",
    "final_df"
   ]
  },
  {
   "cell_type": "code",
   "execution_count": 113,
   "metadata": {},
   "outputs": [
    {
     "data": {
      "image/png": "[encoded data removed]",
      "text/plain": [
       "<Figure size 1296x432 with 1 Axes>"
      ]
     },
     "metadata": {},
     "output_type": "display_data"
    }
   ],
   "source": [
    "#plotting the budget/revenue versus genre\n",
    "final_df.plot.bar(rot=0, figsize=(18,6))\n",
    "#rotating the labels in x-axis for readability\n",
    "plt.xticks(rotation=30)\n",
    "plt.xlabel(\"Genres\")\n",
    "plt.ylabel(\"Money ($)\")\n",
    "plt.show()"
   ]
  },
  {
   "cell_type": "markdown",
   "metadata": {},
   "source": [
    "**The movie industry is quite profitable!** \n",
    "\n",
    "The revenues were best in terms of value for Animation, Adventure, Fantasy, Family and Science fiction. this can also be attributed to the popularity of these genres as was seen in the previous question.\n",
    "\n",
    "If we notice the budget to Revenue conversion, I think that TV film have the best revenue compared to their budget. This can be because the cost of making is quite low and income from Ads is quite high."
   ]
  },
  {
   "cell_type": "markdown",
   "metadata": {},
   "source": [
    "<a id='conclusions'></a>\n",
    "## Conclusions\n",
    "\n",
    "The main aim of this research was to explore the following 2 trends.\n",
    "\n",
    "### 1. Trends in Popularity\n",
    "\n",
    "Going through the popularity data and the graph that was plotted, I could notice that movies are here to stay! More and more people follow movies and their production houses. That is why the popularity has been increasing over the years and is the best in the recent years. Since people have better access to films and related information, people do follow the movie industry and watch films. The growth has been steady ove the years but looks to better in the coming years.\n",
    "\n",
    "Since the popularity is increasing, we can also note an increase in the revenue of the movies. This is a very good sign for the industry. More movies can be made with trust on the people since people do go out and watch the films. As years went, revenues increased with popularity.\n",
    "\n",
    "\n",
    "### 2. Trends in Genres\n",
    "\n",
    "Genre is something depends on liking of different people. I may like Science fiction and you may like Romance. Hence it is necessary for the industry to make films of all sorts. But looking at the trends, we see that the industry mostry makes films in the 'Drama', 'Fantasy' genres and given people less chance to explore. This has improved over the years.\n",
    "\n",
    "The popularity of Adventure, Science Fiction, Animation was higher. The industry need to make more of these films. These films are profitable as well as saw from the budget-revenue graph. The revenue is good for these Genres. The cost of making is high for these genres but if the movie is popular, the revenues are also proportional.\n",
    "\n",
    "\n",
    "Researching the Movies dataset was a great experience since the dataset has lot of meaningful information. Getting the right insights was well learnt from this experience! Being a movies fan, This did give me a good knowledge of the industry! \n",
    "\n",
    "                                                                              -Gautam Gadiyar"
   ]
  }
 ],
 "metadata": {
  "kernelspec": {
   "display_name": "Python 3",
   "language": "python",
   "name": "python3"
  },
  "language_info": {
   "codemirror_mode": {
    "name": "ipython",
    "version": 3
   },
   "file_extension": ".py",
   "mimetype": "text/x-python",
   "name": "python",
   "nbconvert_exporter": "python",
   "pygments_lexer": "ipython3",
   "version": "3.7.1"
  }
 },
 "nbformat": 4,
 "nbformat_minor": 2
}
